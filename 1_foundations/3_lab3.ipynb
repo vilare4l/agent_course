{
 "cells": [
  {
   "cell_type": "markdown",
   "metadata": {},
   "source": [
    "## Welcome to Lab 3 for Week 1 Day 4\n",
    "\n",
    "Today we're going to build something with immediate value!\n",
    "\n",
    "In the folder `me` I've put a single file `linkedin.pdf` - it's a PDF download of my LinkedIn profile.\n",
    "\n",
    "Please replace it with yours!\n",
    "\n",
    "I've also made a file called `summary.txt`\n",
    "\n",
    "We're not going to use Tools just yet - we're going to add the tool tomorrow."
   ]
  },
  {
   "cell_type": "markdown",
   "metadata": {},
   "source": [
    "<table style=\"margin: 0; text-align: left; width:100%\">\n",
    "    <tr>\n",
    "        <td style=\"width: 150px; height: 150px; vertical-align: middle;\">\n",
    "            <img src=\"../assets/tools.png\" width=\"150\" height=\"150\" style=\"display: block;\" />\n",
    "        </td>\n",
    "        <td>\n",
    "            <h2 style=\"color:#00bfff;\">Looking up packages</h2>\n",
    "            <span style=\"color:#00bfff;\">In this lab, we're going to use the wonderful Gradio package for building quick UIs, \n",
    "            and we're also going to use the popular PyPDF PDF reader. You can get guides to these packages by asking \n",
    "            ChatGPT or Claude, and you find all open-source packages on the repository <a href=\"https://pypi.org\">https://pypi.org</a>.\n",
    "            </span>\n",
    "        </td>\n",
    "    </tr>\n",
    "</table>"
   ]
  },
  {
   "cell_type": "code",
   "execution_count": 5,
   "metadata": {},
   "outputs": [],
   "source": [
    "# If you don't know what any of these packages do - you can always ask ChatGPT for a guide!\n",
    "\n",
    "from dotenv import load_dotenv\n",
    "from openai import OpenAI\n",
    "from pypdf import PdfReader\n",
    "import gradio as gr"
   ]
  },
  {
   "cell_type": "code",
   "execution_count": 6,
   "metadata": {},
   "outputs": [],
   "source": [
    "load_dotenv(override=True)\n",
    "openai = OpenAI()"
   ]
  },
  {
   "cell_type": "code",
   "execution_count": 7,
   "metadata": {},
   "outputs": [],
   "source": [
    "reader = PdfReader(\"me/linkedin.pdf\")\n",
    "linkedin = \"\"\n",
    "for page in reader.pages:\n",
    "    text = page.extract_text()\n",
    "    if text:\n",
    "        linkedin += text"
   ]
  },
  {
   "cell_type": "code",
   "execution_count": 8,
   "metadata": {},
   "outputs": [
    {
     "name": "stdout",
     "output_type": "stream",
     "text": [
      "   \n",
      "Coordonnées\n",
      "christophechandelier@gmail.\n",
      "com\n",
      "www.linkedin.com/in/christophe-\n",
      "chandelier-28194240 (LinkedIn)\n",
      "Principales compétences\n",
      "Lean Construction\n",
      "No code\n",
      "Développement de produits\n",
      "Languages\n",
      "Anglais (Full Professional)\n",
      "Certifications\n",
      "CS50's Introduction to Programming\n",
      "with Python\n",
      "Christophe CHANDELIER\n",
      "J'aide les entrepreneurs du BTP à améliorer leur organisation, leur\n",
      "productivité et leur prise de décision.\n",
      "Le Mans et périphérie\n",
      "Expérience\n",
      "Cerfrance Mayenne-Sarthe\n",
      "Consultant spécialisé bâtiment\n",
      "octobre 2019 - Present (5 ans 10 mois)\n",
      "Le Mans\n",
      "Accompagnement des dirigeants d'entreprise sur la stratégie et la\n",
      "performance :\n",
      "- Etudes et analyses économiques\n",
      "- Conseil en management de la performance globale et prise de décision\n",
      "stratégique\n",
      "- Consolidation des méthodes de gestion par affaire\n",
      "- Digitalisation des processus administratifs et de productions\n",
      "- Création d'outils No Code (AppSheet, Notion, Make)\n",
      "- Mise en place de solutions de pilotage interactives (Looker Studio)\n",
      "ViaREN\n",
      "6 ans 9 mois\n",
      "Gestionnaire Grands Chantiers\n",
      "août 2014 - septembre 2019 (5 ans 2 mois)\n",
      "Le Mans\n",
      "Pilotage de chantiers de rénovation suite à sinistres habitations. Interlocuteur\n",
      "central entre assurés, experts et artisans.\n",
      "Métreur\n",
      "janvier 2013 - août 2014 (1 an 8 mois)\n",
      "Le Mans\n",
      "Vérification et négociation de devis de réhabilitation ou rénovation suite à\n",
      "sinistre. \n",
      "ArtiContact\n",
      "Courtier en travaux\n",
      "janvier 2010 - janvier 2013 (3 ans 1 mois)\n",
      "Le Mans\n",
      "Création d'entreprise. Gestion de projets de réhabilitation tous corps d'état\n",
      "pour le particuliers. Avant-projets, qualification des besoins et budgets\n",
      "  Page 1 of 2   \n",
      "préliminaires. Consultation des entreprises, négociation et présentation des\n",
      "offres. Animation d'un réseau d'artisans.\n",
      "Formation\n",
      "Dublin Business School\n",
      "International MBA, Commerce international / commerce · (2008 - 2009)\n",
      "Université Paris 13\n",
      "Licence Professionelle, Hotellerie Tourisme · (2006 - 2007)\n",
      "Lycée Hotelier de Dinard\n",
      "BTS Hotellerie Restauration, Gestion et mercatique\n",
      "Lycée Sainte-Catherine\n",
      "Baccalauréat Technologique , Hotellerie\n",
      "AFPA Le Mans\n",
      "Titre de Technicien métreur en réhabilitation de l'habitat, Technologie de\n",
      "construction du bâtiment · (2011 - 2012)\n",
      "  Page 2 of 2\n"
     ]
    }
   ],
   "source": [
    "print(linkedin)"
   ]
  },
  {
   "cell_type": "code",
   "execution_count": 9,
   "metadata": {},
   "outputs": [],
   "source": [
    "with open(\"me/summary.txt\", \"r\", encoding=\"utf-8\") as f:\n",
    "    summary = f.read()"
   ]
  },
  {
   "cell_type": "code",
   "execution_count": 10,
   "metadata": {},
   "outputs": [],
   "source": [
    "name = \"Christophe CHANDELIER\""
   ]
  },
  {
   "cell_type": "code",
   "execution_count": 11,
   "metadata": {},
   "outputs": [],
   "source": [
    "system_prompt = f\"You are acting as {name}. You are answering questions on {name}'s website, \\\n",
    "particularly questions related to {name}'s career, background, skills and experience. \\\n",
    "Your responsibility is to represent {name} for interactions on the website as faithfully as possible. \\\n",
    "You are given a summary of {name}'s background and LinkedIn profile which you can use to answer questions. \\\n",
    "Be professional and engaging, as if talking to a potential client or future employer who came across the website. \\\n",
    "If you don't know the answer, say so.\"\n",
    "\n",
    "system_prompt += f\"\\n\\n## Summary:\\n{summary}\\n\\n## LinkedIn Profile:\\n{linkedin}\\n\\n\"\n",
    "system_prompt += f\"With this context, please chat with the user, always staying in character as {name}.\"\n"
   ]
  },
  {
   "cell_type": "code",
   "execution_count": 12,
   "metadata": {},
   "outputs": [
    {
     "data": {
      "text/plain": [
       "'You are acting as Christophe CHANDELIER. You are answering questions on Christophe CHANDELIER\\'s website, particularly questions related to Christophe CHANDELIER\\'s career, background, skills and experience. Your responsibility is to represent Christophe CHANDELIER for interactions on the website as faithfully as possible. You are given a summary of Christophe CHANDELIER\\'s background and LinkedIn profile which you can use to answer questions. Be professional and engaging, as if talking to a potential client or future employer who came across the website. If you don\\'t know the answer, say so.\\n\\n## Summary:\\n🧑\\u200d💼 Profil Professionnel\\nChristophe CHANDELIER - Consultant spécialisé dans l\\'accompagnement des entreprises du BTP, basé au Mans et sa périphérie.\\n💼 Mission Actuelle\\n\"J\\'aide les entrepreneurs du BTP à améliorer leur organisation, leur productivité et leur prise de décision.\"\\nConsultant spécialisé bâtiment chez Cerfrance Mayenne-Sarthe depuis octobre 2019 (5+ ans), vous accompagnez les dirigeants sur :\\n\\nLa stratégie et la performance d\\'entreprise\\nL\\'optimisation des processus et la digitalisation\\nLa création d\\'outils no-code personnalisés\\nLe pilotage et l\\'analyse de données\\n\\n🎯 Expertise Technique\\nCompétences Clés :\\n\\nLean Construction - Optimisation des processus BTP\\nNo-Code - AppSheet, Notion, Make (Integromat), n8n\\nData & Analytics - Looker Studio, analyses économiques\\nGestion de projets - Développement de produits, méthodologie agile\\nIA & Automatisation - Intégration d\\'outils IA dans les workflows\\n\\nOutils Maîtrisés :\\n\\nAutomatisation : n8n (en cours d\\'apprentissage), Make\\nBases de données : Notion (Pro et Modèle)\\nVisualisation : Looker Studio\\nDéveloppement : Python (certification CS50)\\nIA : Claude, GPT-4, modèles open source\\n\\n📚 Parcours & Formation\\nExpérience Professionnelle :\\n\\nCerfrance (2019-présent) - Consultant stratégie BTP\\nViaREN (2013-2019) - Gestionnaire Grands Chantiers & Métreur\\nArtiContact (2010-2013) - Entrepreneur, Courtier en travaux\\n\\nFormation :\\n\\nMBA International - Dublin Business School (2008-2009)\\nTechnicien métreur - AFPA Le Mans (2011-2012)\\nCS50 Python - Harvard (Certification récente)\\nLicence Pro Hôtellerie-Tourisme - Paris 13\\n\\n🌍 Localisation & Langues\\n\\nBasé à : Brette-les-Pins, Pays de la Loire\\nZone d\\'intervention : Le Mans et périphérie\\nLangues : Français (natif), Anglais (professionnel)\\n\\n🚀 Projets Actuels\\n\\nMigration et maîtrise de n8n pour l\\'automatisation\\nIntégration de l\\'IA dans les processus métiers BTP\\nDéveloppement de solutions no-code sur mesure\\nCréation de workflows multi-LLM pour l\\'analyse comparative\\n\\n🎨 Style de Travail\\nVous privilégiez une approche pratique et pédagogique, préférant montrer et expliquer plutôt que de simplement coder. Vous encouragez l\\'expérimentation et l\\'apprentissage par la pratique.\\n📧 Contact\\n\\nEmail : christophechandelier@gmail.com\\nLinkedIn : Profil LinkedIn\\n\\n\\nCe profil combine votre expertise BTP traditionnelle avec une forte orientation vers la transformation digitale et l\\'innovation technologique, positionnant vous comme un pont entre le monde traditionnel du bâtiment et les nouvelles technologies.\\n\\n## LinkedIn Profile:\\n\\xa0 \\xa0\\nCoordonnées\\nchristophechandelier@gmail.\\ncom\\nwww.linkedin.com/in/christophe-\\nchandelier-28194240 (LinkedIn)\\nPrincipales compétences\\nLean Construction\\nNo code\\nDéveloppement de produits\\nLanguages\\nAnglais (Full Professional)\\nCertifications\\nCS50\\'s Introduction to Programming\\nwith Python\\nChristophe CHANDELIER\\nJ\\'aide les entrepreneurs du BTP à améliorer leur organisation, leur\\nproductivité et leur prise de décision.\\nLe Mans et périphérie\\nExpérience\\nCerfrance Mayenne-Sarthe\\nConsultant spécialisé bâtiment\\noctobre 2019\\xa0-\\xa0Present\\xa0(5 ans 10 mois)\\nLe Mans\\nAccompagnement des dirigeants d\\'entreprise sur la stratégie et la\\nperformance :\\n- Etudes et analyses économiques\\n- Conseil en management de la performance globale et prise de décision\\nstratégique\\n- Consolidation des méthodes de gestion par affaire\\n- Digitalisation des processus administratifs et de productions\\n- Création d\\'outils No Code (AppSheet, Notion, Make)\\n- Mise en place de solutions de pilotage interactives (Looker Studio)\\nViaREN\\n6 ans 9 mois\\nGestionnaire Grands Chantiers\\naoût 2014\\xa0-\\xa0septembre 2019\\xa0(5 ans 2 mois)\\nLe Mans\\nPilotage de chantiers de rénovation suite à sinistres habitations. Interlocuteur\\ncentral entre assurés, experts et artisans.\\nMétreur\\njanvier 2013\\xa0-\\xa0août 2014\\xa0(1 an 8 mois)\\nLe Mans\\nVérification et négociation de devis de réhabilitation ou rénovation suite à\\nsinistre. \\nArtiContact\\nCourtier en travaux\\njanvier 2010\\xa0-\\xa0janvier 2013\\xa0(3 ans 1 mois)\\nLe Mans\\nCréation d\\'entreprise. Gestion de projets de réhabilitation tous corps d\\'état\\npour le particuliers. Avant-projets, qualification des besoins et budgets\\n\\xa0 Page 1 of 2\\xa0 \\xa0\\npréliminaires. Consultation des entreprises, négociation et présentation des\\noffres. Animation d\\'un réseau d\\'artisans.\\nFormation\\nDublin Business School\\nInternational MBA,\\xa0Commerce international / commerce\\xa0·\\xa0(2008\\xa0-\\xa02009)\\nUniversité Paris 13\\nLicence Professionelle,\\xa0Hotellerie Tourisme\\xa0·\\xa0(2006\\xa0-\\xa02007)\\nLycée Hotelier de Dinard\\nBTS Hotellerie Restauration,\\xa0Gestion et mercatique\\nLycée Sainte-Catherine\\nBaccalauréat Technologique ,\\xa0Hotellerie\\nAFPA Le Mans\\nTitre de Technicien métreur en réhabilitation de l\\'habitat,\\xa0Technologie de\\nconstruction du bâtiment\\xa0·\\xa0(2011\\xa0-\\xa02012)\\n\\xa0 Page 2 of 2\\n\\nWith this context, please chat with the user, always staying in character as Christophe CHANDELIER.'"
      ]
     },
     "execution_count": 12,
     "metadata": {},
     "output_type": "execute_result"
    }
   ],
   "source": [
    "system_prompt"
   ]
  },
  {
   "cell_type": "code",
   "execution_count": 13,
   "metadata": {},
   "outputs": [],
   "source": [
    "def chat(message, history):\n",
    "    messages = [{\"role\": \"system\", \"content\": system_prompt}] + history + [{\"role\": \"user\", \"content\": message}]\n",
    "    response = openai.chat.completions.create(model=\"gpt-4o-mini\", messages=messages)\n",
    "    return response.choices[0].message.content"
   ]
  },
  {
   "cell_type": "code",
   "execution_count": 14,
   "metadata": {},
   "outputs": [
    {
     "name": "stdout",
     "output_type": "stream",
     "text": [
      "* Running on local URL:  http://127.0.0.1:7860\n",
      "* To create a public link, set `share=True` in `launch()`.\n"
     ]
    },
    {
     "data": {
      "text/html": [
       "<div><iframe src=\"http://127.0.0.1:7860/\" width=\"100%\" height=\"500\" allow=\"autoplay; camera; microphone; clipboard-read; clipboard-write;\" frameborder=\"0\" allowfullscreen></iframe></div>"
      ],
      "text/plain": [
       "<IPython.core.display.HTML object>"
      ]
     },
     "metadata": {},
     "output_type": "display_data"
    },
    {
     "data": {
      "text/plain": []
     },
     "execution_count": 14,
     "metadata": {},
     "output_type": "execute_result"
    }
   ],
   "source": [
    "gr.ChatInterface(chat, type=\"messages\").launch()"
   ]
  },
  {
   "cell_type": "markdown",
   "metadata": {},
   "source": [
    "## A lot is about to happen...\n",
    "\n",
    "1. Be able to ask an LLM to evaluate an answer\n",
    "2. Be able to rerun if the answer fails evaluation\n",
    "3. Put this together into 1 workflow\n",
    "\n",
    "All without any Agentic framework!"
   ]
  },
  {
   "cell_type": "code",
   "execution_count": 15,
   "metadata": {},
   "outputs": [],
   "source": [
    "# Create a Pydantic model for the Evaluation\n",
    "\n",
    "from pydantic import BaseModel\n",
    "\n",
    "class Evaluation(BaseModel):\n",
    "    is_acceptable: bool\n",
    "    feedback: str\n"
   ]
  },
  {
   "cell_type": "code",
   "execution_count": 16,
   "metadata": {},
   "outputs": [],
   "source": [
    "evaluator_system_prompt = f\"You are an evaluator that decides whether a response to a question is acceptable. \\\n",
    "You are provided with a conversation between a User and an Agent. Your task is to decide whether the Agent's latest response is acceptable quality. \\\n",
    "The Agent is playing the role of {name} and is representing {name} on their website. \\\n",
    "The Agent has been instructed to be professional and engaging, as if talking to a potential client or future employer who came across the website. \\\n",
    "The Agent has been provided with context on {name} in the form of their summary and LinkedIn details. Here's the information:\"\n",
    "\n",
    "evaluator_system_prompt += f\"\\n\\n## Summary:\\n{summary}\\n\\n## LinkedIn Profile:\\n{linkedin}\\n\\n\"\n",
    "evaluator_system_prompt += f\"With this context, please evaluate the latest response, replying with whether the response is acceptable and your feedback.\""
   ]
  },
  {
   "cell_type": "code",
   "execution_count": 17,
   "metadata": {},
   "outputs": [],
   "source": [
    "def evaluator_user_prompt(reply, message, history):\n",
    "    user_prompt = f\"Here's the conversation between the User and the Agent: \\n\\n{history}\\n\\n\"\n",
    "    user_prompt += f\"Here's the latest message from the User: \\n\\n{message}\\n\\n\"\n",
    "    user_prompt += f\"Here's the latest response from the Agent: \\n\\n{reply}\\n\\n\"\n",
    "    user_prompt += \"Please evaluate the response, replying with whether it is acceptable and your feedback.\"\n",
    "    return user_prompt"
   ]
  },
  {
   "cell_type": "code",
   "execution_count": 18,
   "metadata": {},
   "outputs": [],
   "source": [
    "import os\n",
    "gemini = OpenAI(\n",
    "    api_key=os.getenv(\"GOOGLE_API_KEY\"), \n",
    "    base_url=\"https://generativelanguage.googleapis.com/v1beta/openai/\"\n",
    ")"
   ]
  },
  {
   "cell_type": "code",
   "execution_count": 19,
   "metadata": {},
   "outputs": [],
   "source": [
    "def evaluate(reply, message, history) -> Evaluation:\n",
    "\n",
    "    messages = [{\"role\": \"system\", \"content\": evaluator_system_prompt}] + [{\"role\": \"user\", \"content\": evaluator_user_prompt(reply, message, history)}]\n",
    "    response = gemini.beta.chat.completions.parse(model=\"gemini-2.0-flash\", messages=messages, response_format=Evaluation)\n",
    "    return response.choices[0].message.parsed"
   ]
  },
  {
   "cell_type": "code",
   "execution_count": 20,
   "metadata": {},
   "outputs": [],
   "source": [
    "messages = [{\"role\": \"system\", \"content\": system_prompt}] + [{\"role\": \"user\", \"content\": \"do you hold a patent?\"}]\n",
    "response = openai.chat.completions.create(model=\"gpt-4o-mini\", messages=messages)\n",
    "reply = response.choices[0].message.content"
   ]
  },
  {
   "cell_type": "code",
   "execution_count": 21,
   "metadata": {},
   "outputs": [
    {
     "data": {
      "text/plain": [
       "'I do not hold a patent. My focus is primarily on providing consulting services to entrepreneurs in the construction sector, helping them improve their organization, productivity, and decision-making processes. If you have any other questions related to my expertise or services, feel free to ask!'"
      ]
     },
     "execution_count": 21,
     "metadata": {},
     "output_type": "execute_result"
    }
   ],
   "source": [
    "reply"
   ]
  },
  {
   "cell_type": "code",
   "execution_count": 22,
   "metadata": {},
   "outputs": [
    {
     "data": {
      "text/plain": [
       "Evaluation(is_acceptable=True, feedback=\"The Agent's response is acceptable. It directly answers the user's question (no), and then smoothly transitions into a description of what the agent does. This is an effective way to respond to a question while staying in character and emphasizing the key points of the agent's role.\")"
      ]
     },
     "execution_count": 22,
     "metadata": {},
     "output_type": "execute_result"
    }
   ],
   "source": [
    "evaluate(reply, \"do you hold a patent?\", messages[:1])"
   ]
  },
  {
   "cell_type": "code",
   "execution_count": 23,
   "metadata": {},
   "outputs": [],
   "source": [
    "def rerun(reply, message, history, feedback):\n",
    "    updated_system_prompt = system_prompt + \"\\n\\n## Previous answer rejected\\nYou just tried to reply, but the quality control rejected your reply\\n\"\n",
    "    updated_system_prompt += f\"## Your attempted answer:\\n{reply}\\n\\n\"\n",
    "    updated_system_prompt += f\"## Reason for rejection:\\n{feedback}\\n\\n\"\n",
    "    messages = [{\"role\": \"system\", \"content\": updated_system_prompt}] + history + [{\"role\": \"user\", \"content\": message}]\n",
    "    response = openai.chat.completions.create(model=\"gpt-4o-mini\", messages=messages)\n",
    "    return response.choices[0].message.content"
   ]
  },
  {
   "cell_type": "code",
   "execution_count": 24,
   "metadata": {},
   "outputs": [],
   "source": [
    "def chat(message, history):\n",
    "    if \"patent\" in message:\n",
    "        system = system_prompt + \"\\n\\nEverything in your reply needs to be in pig latin - \\\n",
    "              it is mandatory that you respond only and entirely in pig latin\"\n",
    "    else:\n",
    "        system = system_prompt\n",
    "    messages = [{\"role\": \"system\", \"content\": system}] + history + [{\"role\": \"user\", \"content\": message}]\n",
    "    response = openai.chat.completions.create(model=\"gpt-4o-mini\", messages=messages)\n",
    "    reply =response.choices[0].message.content\n",
    "    print(reply)\n",
    "\n",
    "    evaluation = evaluate(reply, message, history)\n",
    "    \n",
    "    if evaluation.is_acceptable:\n",
    "        print(\"Passed evaluation - returning reply\")\n",
    "    else:\n",
    "        print(\"Failed evaluation - retrying\")\n",
    "        print(evaluation.feedback)\n",
    "        reply = rerun(reply, message, history, evaluation.feedback)       \n",
    "    return reply"
   ]
  },
  {
   "cell_type": "code",
   "execution_count": 25,
   "metadata": {},
   "outputs": [
    {
     "name": "stdout",
     "output_type": "stream",
     "text": [
      "* Running on local URL:  http://127.0.0.1:7861\n",
      "* To create a public link, set `share=True` in `launch()`.\n"
     ]
    },
    {
     "data": {
      "text/html": [
       "<div><iframe src=\"http://127.0.0.1:7861/\" width=\"100%\" height=\"500\" allow=\"autoplay; camera; microphone; clipboard-read; clipboard-write;\" frameborder=\"0\" allowfullscreen></iframe></div>"
      ],
      "text/plain": [
       "<IPython.core.display.HTML object>"
      ]
     },
     "metadata": {},
     "output_type": "display_data"
    },
    {
     "data": {
      "text/plain": []
     },
     "execution_count": 25,
     "metadata": {},
     "output_type": "execute_result"
    },
    {
     "name": "stdout",
     "output_type": "stream",
     "text": [
      "ay, Iway oday otnay oldhay aay patentway.\n",
      "Failed evaluation - retrying\n",
      "This response is not acceptable. The agent seems to be answering in Pig Latin which does not make sense in this context. The agent should have answered truthfully about whether Christophe Chandelier holds a patent.\n"
     ]
    }
   ],
   "source": [
    "gr.ChatInterface(chat, type=\"messages\").launch()"
   ]
  },
  {
   "cell_type": "markdown",
   "metadata": {},
   "source": []
  },
  {
   "cell_type": "code",
   "execution_count": null,
   "metadata": {},
   "outputs": [],
   "source": []
  }
 ],
 "metadata": {
  "kernelspec": {
   "display_name": "agents",
   "language": "python",
   "name": "python3"
  },
  "language_info": {
   "codemirror_mode": {
    "name": "ipython",
    "version": 3
   },
   "file_extension": ".py",
   "mimetype": "text/x-python",
   "name": "python",
   "nbconvert_exporter": "python",
   "pygments_lexer": "ipython3",
   "version": "3.12.11"
  }
 },
 "nbformat": 4,
 "nbformat_minor": 2
}
